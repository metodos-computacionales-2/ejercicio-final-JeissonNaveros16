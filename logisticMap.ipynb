{
 "cells": [
  {
   "cell_type": "code",
   "execution_count": 1,
   "metadata": {},
   "outputs": [],
   "source": [
    "import numpy as np\n",
    "import matplotlib.pylab as plt"
   ]
  },
  {
   "cell_type": "code",
   "execution_count": null,
   "metadata": {},
   "outputs": [],
   "source": [
    "datos = np.loadtxt(\"datos.dat\")\n",
    "r = datos[:,0]\n",
    "x_f = datos[:,1]\n",
    "\n",
    "plt.figure(figsize=(15,8))\n",
    "plt.title(\"Plano de bifurcación para LogisticMap\")\n",
    "plt.scatter(r,x_f)\n",
    "plt.xlabel(\"R\")\n",
    "plt.ylabel(\"Fixed Points\")\n",
    "plt.savefig(\"DiagramaBifurcacion.png\")"
   ]
  }
 ],
 "metadata": {
  "kernelspec": {
   "display_name": "Python 3",
   "language": "python",
   "name": "python3"
  },
  "language_info": {
   "codemirror_mode": {
    "name": "ipython",
    "version": 3
   },
   "file_extension": ".py",
   "mimetype": "text/x-python",
   "name": "python",
   "nbconvert_exporter": "python",
   "pygments_lexer": "ipython3",
   "version": "3.7.3"
  }
 },
 "nbformat": 4,
 "nbformat_minor": 2
}
